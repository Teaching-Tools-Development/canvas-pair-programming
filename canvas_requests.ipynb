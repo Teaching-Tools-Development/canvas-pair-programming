{
 "cells": [
  {
   "cell_type": "code",
   "execution_count": 1,
   "id": "40a374be-46ac-470b-ab86-86711db54acc",
   "metadata": {},
   "outputs": [],
   "source": [
    "import requests"
   ]
  },
  {
   "cell_type": "code",
   "execution_count": 2,
   "id": "683fa8bd-db74-4018-90b7-fec114d38c84",
   "metadata": {},
   "outputs": [],
   "source": [
    "\n",
    "CANVAS_API_TOKEN = \"\""
   ]
  },
  {
   "cell_type": "code",
   "execution_count": 8,
   "id": "787c4206-9221-4def-8362-e177d89c2422",
   "metadata": {},
   "outputs": [
    {
     "data": {
      "text/plain": [
       "{'html_url': 'https://canvas.nau.edu/courses/29211/grades/ID',\n",
       " 'current_grade': None,\n",
       " 'current_score': None,\n",
       " 'final_grade': 'F',\n",
       " 'final_score': 0.0,\n",
       " 'unposted_current_score': None,\n",
       " 'unposted_current_grade': None,\n",
       " 'unposted_final_score': 0.0,\n",
       " 'unposted_final_grade': 'F'}"
      ]
     },
     "execution_count": 8,
     "metadata": {},
     "output_type": "execute_result"
    }
   ],
   "source": [
    "enrollments[2]['grades']"
   ]
  },
  {
   "cell_type": "code",
   "execution_count": 13,
   "id": "a48085a1-0a85-4a12-87c5-fc532b5c68bc",
   "metadata": {},
   "outputs": [],
   "source": [
    "    course_id = '25655'  # Replace with your actual course ID\n",
    "    base_url = f'https://canvas.nau.edu/api/v1/courses/{course_id}'\n",
    "    headers = {\n",
    "        \"Authorization\": f\"Bearer {CANVAS_API_TOKEN}\"\n",
    "    }\n"
   ]
  },
  {
   "cell_type": "code",
   "execution_count": null,
   "id": "ac73ddae-a758-481f-8bd3-119ad856cef4",
   "metadata": {},
   "outputs": [],
   "source": []
  },
  {
   "cell_type": "code",
   "execution_count": 14,
   "id": "74f39c17-33dc-4d21-81c8-340b81441f86",
   "metadata": {},
   "outputs": [],
   "source": [
    "    # Step 1: Get all assignments\n",
    "    assignments_url = f'{base_url}/assignments'\n",
    "    assignments_response = requests.get(assignments_url, headers=headers)"
   ]
  },
  {
   "cell_type": "code",
   "execution_count": 18,
   "id": "fdd5fd17-9678-4a1d-b8ec-40853188a98e",
   "metadata": {},
   "outputs": [
    {
     "name": "stdout",
     "output_type": "stream",
     "text": [
      "https://canvas.nau.edu/api/v1/courses/25655/assignments\n",
      "<Response [200]>\n"
     ]
    }
   ],
   "source": [
    "print(assignments_url)\n",
    "print(assignments_response)"
   ]
  },
  {
   "cell_type": "code",
   "execution_count": 20,
   "id": "0ed0df95-ef8d-4c41-a5a2-2bc072a36fb8",
   "metadata": {},
   "outputs": [],
   "source": [
    "    try:\n",
    "        assignments_response.raise_for_status()\n",
    "        assignments = assignments_response.json()\n",
    "    except requests.exceptions.RequestException as e:\n",
    "         print(request, 'error.html', {'message': f'Request error: {e}'})"
   ]
  },
  {
   "cell_type": "code",
   "execution_count": 31,
   "id": "fd801089-4d26-466d-a95b-0df8b21f93ac",
   "metadata": {},
   "outputs": [
    {
     "name": "stdout",
     "output_type": "stream",
     "text": [
      "3\n",
      "Homework #1\n",
      "TEMPLATE: Introductions\n",
      "Survey | Self-evaluation 06\n"
     ]
    }
   ],
   "source": [
    "print(len(assignments))\n",
    "print(assignments[0]['name'])\n",
    "print(assignments[1]['name'])\n",
    "print(assignments[2]['name'])"
   ]
  },
  {
   "cell_type": "code",
   "execution_count": 32,
   "id": "7ace3a9d-34e8-46cf-b7d5-0d69cdd16c74",
   "metadata": {},
   "outputs": [],
   "source": [
    "    # Step 2: Get all enrollments (students)\n",
    "    enrollments_url = f'{base_url}/enrollments'\n",
    "    enrollments_response = requests.get(enrollments_url, headers=headers)"
   ]
  },
  {
   "cell_type": "code",
   "execution_count": 33,
   "id": "e367e5ac-bb6b-440b-82c4-a9566caa1d27",
   "metadata": {},
   "outputs": [],
   "source": [
    "    try:\n",
    "        enrollments_response.raise_for_status()\n",
    "        enrollments = enrollments_response.json()\n",
    "    except requests.exceptions.RequestException as e:\n",
    "        print(request, 'error.html', {'message': f'Request error: {e}'})"
   ]
  },
  {
   "cell_type": "code",
   "execution_count": 43,
   "id": "d3f8f573-bff9-452d-b570-1b083a579674",
   "metadata": {},
   "outputs": [
    {
     "data": {
      "text/plain": [
       "dict_keys(['id', 'user_id', 'course_id', 'type', 'created_at', 'updated_at', 'associated_user_id', 'start_at', 'end_at', 'course_section_id', 'root_account_id', 'limit_privileges_to_course_section', 'enrollment_state', 'role', 'role_id', 'last_activity_at', 'last_attended_at', 'total_activity_time', 'sis_account_id', 'sis_course_id', 'course_integration_id', 'sis_section_id', 'section_integration_id', 'sis_user_id', 'html_url', 'user'])"
      ]
     },
     "execution_count": 43,
     "metadata": {},
     "output_type": "execute_result"
    }
   ],
   "source": [
    "enrollments[0].keys()"
   ]
  },
  {
   "cell_type": "code",
   "execution_count": 46,
   "id": "bbfd980c-f024-4cbc-aa54-c47618299e70",
   "metadata": {},
   "outputs": [
    {
     "name": "stdout",
     "output_type": "stream",
     "text": [
      "4157\n",
      "DesignerEnrollment\n",
      "52296\n",
      "DesignerEnrollment\n",
      "20988\n",
      "DesignerEnrollment\n",
      "64143\n",
      "DesignerEnrollment\n",
      "74890\n",
      "StudentEnrollment\n",
      "Test Student\n",
      "4157\n",
      "Instructor\n",
      "52296\n",
      "Instructor\n",
      "20988\n",
      "Instructor\n",
      "64143\n",
      "Instructor\n"
     ]
    }
   ],
   "source": [
    "for enrolment_index in range(0, len(enrollments)):\n",
    "    print(enrollments[enrolment_index][\"user_id\"])\n",
    "    print(enrollments[enrolment_index][\"role\"])\n",
    "    if enrollments[enrolment_index][\"user_id\"] == 74890:\n",
    "        print(enrollments[enrolment_index][\"user\"][\"name\"])\n"
   ]
  },
  {
   "cell_type": "code",
   "execution_count": 84,
   "id": "31168a62-c601-4edb-8c8b-43c27fa056cc",
   "metadata": {},
   "outputs": [
    {
     "name": "stdout",
     "output_type": "stream",
     "text": [
      "https://canvas.nau.edu/api/v1/courses/25655/assignments/529887/submissions/74890\n",
      "6.0\n",
      "https://canvas.nau.edu/api/v1/courses/25655/assignments/679792/submissions/74890\n",
      "5.0\n"
     ]
    }
   ],
   "source": [
    "    for enrollment in enrollments:\n",
    "        # Filter for students only\n",
    "        if enrollment.get('role') == 'StudentEnrollment':\n",
    "            student_name = enrollment.get('user', {}).get('name', 'Unknown')\n",
    "            user_id = enrollment.get('user', {}).get('id')\n",
    "            total_grade = 0\n",
    "            total_possible_points = 0\n",
    "            \n",
    "            for assignment in assignments:\n",
    "                assignment_id = assignment.get('id')\n",
    "                points_possible = assignment.get('points_possible', 0)\n",
    "                \n",
    "                if not assignment_id or points_possible == 0:\n",
    "                    continue\n",
    "                \n",
    "                # Get submission for the current student for the current assignment\n",
    "                submission_url = f'{base_url}/assignments/{assignment_id}/submissions/{enrollment[\"user_id\"]}'\n",
    "                submission_response = requests.get(submission_url, headers=headers)\n",
    "\n",
    "\n",
    "                submission_response.raise_for_status()\n",
    "                submission = submission_response.json()\n",
    "                print(submission_url)\n",
    "                print(submission['score'])\n",
    "                #speed_grader_url = f'https://canvas.nau.edu/courses/25655/gradebook/speed_grader?assignment_id={assignment_id}&student_id={enrollment[\"user_id\"]}'\n",
    "                #speed_grader_response = requests.get(speed_grader_url, headers=headers)"
   ]
  },
  {
   "cell_type": "code",
   "execution_count": 82,
   "id": "aff4e810-2930-4d37-8220-1df714882e14",
   "metadata": {},
   "outputs": [
    {
     "data": {
      "text/plain": [
       "'https://canvas.nau.edu/api/v1/courses/25655/assignments/679792/submissions/74890'"
      ]
     },
     "execution_count": 82,
     "metadata": {},
     "output_type": "execute_result"
    }
   ],
   "source": [
    "submission_url"
   ]
  },
  {
   "cell_type": "code",
   "execution_count": 83,
   "id": "153f4531-9b5b-4e19-8074-e1198ad10c91",
   "metadata": {},
   "outputs": [
    {
     "data": {
      "text/plain": [
       "5.0"
      ]
     },
     "execution_count": 83,
     "metadata": {},
     "output_type": "execute_result"
    }
   ],
   "source": [
    "submission['score']"
   ]
  },
  {
   "cell_type": "code",
   "execution_count": 71,
   "id": "8f668e93-893d-424e-b386-6e42851858b7",
   "metadata": {},
   "outputs": [
    {
     "ename": "AttributeError",
     "evalue": "'str' object has no attribute 'json'",
     "output_type": "error",
     "traceback": [
      "\u001b[1;31m---------------------------------------------------------------------------\u001b[0m",
      "\u001b[1;31mAttributeError\u001b[0m                            Traceback (most recent call last)",
      "Cell \u001b[1;32mIn[71], line 1\u001b[0m\n\u001b[1;32m----> 1\u001b[0m \u001b[43msubmission_url\u001b[49m\u001b[38;5;241;43m.\u001b[39;49m\u001b[43mjson\u001b[49m()\n\u001b[0;32m      2\u001b[0m \u001b[38;5;66;03m#    print(\"Grade:\", submission_details.get('grade'))\u001b[39;00m\n\u001b[0;32m      3\u001b[0m \u001b[38;5;66;03m#    print(\"Score:\", submission_details.get('score'))\u001b[39;00m\n",
      "\u001b[1;31mAttributeError\u001b[0m: 'str' object has no attribute 'json'"
     ]
    }
   ],
   "source": [
    "submission_url.json()\n",
    "#    print(\"Grade:\", submission_details.get('grade'))\n",
    "#    print(\"Score:\", submission_details.get('score'))"
   ]
  },
  {
   "cell_type": "code",
   "execution_count": 66,
   "id": "60172db6-331f-4d1b-b178-8abac90d01c7",
   "metadata": {},
   "outputs": [
    {
     "name": "stdout",
     "output_type": "stream",
     "text": [
      "https://canvas.nau.edu/courses/25655/gradebook/speed_grader?assignment_id=679792&student_id=74890\n",
      "<Response [200]>\n"
     ]
    }
   ],
   "source": [
    "print(speed_grader_url)\n",
    "print(speed_grader_response)\n",
    "#https://canvas.nau.edu/courses/25655/gradebook/speed_grader?assignment_id=529887&student_id=74890"
   ]
  },
  {
   "cell_type": "code",
   "execution_count": 69,
   "id": "003f4705-b155-4232-b6d1-ca448d95e92a",
   "metadata": {},
   "outputs": [
    {
     "ename": "JSONDecodeError",
     "evalue": "Expecting value: line 1 column 1 (char 0)",
     "output_type": "error",
     "traceback": [
      "\u001b[1;31m---------------------------------------------------------------------------\u001b[0m",
      "\u001b[1;31mJSONDecodeError\u001b[0m                           Traceback (most recent call last)",
      "File \u001b[1;32m~\\AppData\\Local\\Programs\\Python\\Python311\\Lib\\site-packages\\requests\\models.py:971\u001b[0m, in \u001b[0;36mResponse.json\u001b[1;34m(self, **kwargs)\u001b[0m\n\u001b[0;32m    970\u001b[0m \u001b[38;5;28;01mtry\u001b[39;00m:\n\u001b[1;32m--> 971\u001b[0m     \u001b[38;5;28;01mreturn\u001b[39;00m \u001b[43mcomplexjson\u001b[49m\u001b[38;5;241;43m.\u001b[39;49m\u001b[43mloads\u001b[49m\u001b[43m(\u001b[49m\u001b[38;5;28;43mself\u001b[39;49m\u001b[38;5;241;43m.\u001b[39;49m\u001b[43mtext\u001b[49m\u001b[43m,\u001b[49m\u001b[43m \u001b[49m\u001b[38;5;241;43m*\u001b[39;49m\u001b[38;5;241;43m*\u001b[39;49m\u001b[43mkwargs\u001b[49m\u001b[43m)\u001b[49m\n\u001b[0;32m    972\u001b[0m \u001b[38;5;28;01mexcept\u001b[39;00m JSONDecodeError \u001b[38;5;28;01mas\u001b[39;00m e:\n\u001b[0;32m    973\u001b[0m     \u001b[38;5;66;03m# Catch JSON-related errors and raise as requests.JSONDecodeError\u001b[39;00m\n\u001b[0;32m    974\u001b[0m     \u001b[38;5;66;03m# This aliases json.JSONDecodeError and simplejson.JSONDecodeError\u001b[39;00m\n",
      "File \u001b[1;32m~\\AppData\\Local\\Programs\\Python\\Python311\\Lib\\json\\__init__.py:346\u001b[0m, in \u001b[0;36mloads\u001b[1;34m(s, cls, object_hook, parse_float, parse_int, parse_constant, object_pairs_hook, **kw)\u001b[0m\n\u001b[0;32m    343\u001b[0m \u001b[38;5;28;01mif\u001b[39;00m (\u001b[38;5;28mcls\u001b[39m \u001b[38;5;129;01mis\u001b[39;00m \u001b[38;5;28;01mNone\u001b[39;00m \u001b[38;5;129;01mand\u001b[39;00m object_hook \u001b[38;5;129;01mis\u001b[39;00m \u001b[38;5;28;01mNone\u001b[39;00m \u001b[38;5;129;01mand\u001b[39;00m\n\u001b[0;32m    344\u001b[0m         parse_int \u001b[38;5;129;01mis\u001b[39;00m \u001b[38;5;28;01mNone\u001b[39;00m \u001b[38;5;129;01mand\u001b[39;00m parse_float \u001b[38;5;129;01mis\u001b[39;00m \u001b[38;5;28;01mNone\u001b[39;00m \u001b[38;5;129;01mand\u001b[39;00m\n\u001b[0;32m    345\u001b[0m         parse_constant \u001b[38;5;129;01mis\u001b[39;00m \u001b[38;5;28;01mNone\u001b[39;00m \u001b[38;5;129;01mand\u001b[39;00m object_pairs_hook \u001b[38;5;129;01mis\u001b[39;00m \u001b[38;5;28;01mNone\u001b[39;00m \u001b[38;5;129;01mand\u001b[39;00m \u001b[38;5;129;01mnot\u001b[39;00m kw):\n\u001b[1;32m--> 346\u001b[0m     \u001b[38;5;28;01mreturn\u001b[39;00m \u001b[43m_default_decoder\u001b[49m\u001b[38;5;241;43m.\u001b[39;49m\u001b[43mdecode\u001b[49m\u001b[43m(\u001b[49m\u001b[43ms\u001b[49m\u001b[43m)\u001b[49m\n\u001b[0;32m    347\u001b[0m \u001b[38;5;28;01mif\u001b[39;00m \u001b[38;5;28mcls\u001b[39m \u001b[38;5;129;01mis\u001b[39;00m \u001b[38;5;28;01mNone\u001b[39;00m:\n",
      "File \u001b[1;32m~\\AppData\\Local\\Programs\\Python\\Python311\\Lib\\json\\decoder.py:337\u001b[0m, in \u001b[0;36mJSONDecoder.decode\u001b[1;34m(self, s, _w)\u001b[0m\n\u001b[0;32m    333\u001b[0m \u001b[38;5;250m\u001b[39m\u001b[38;5;124;03m\"\"\"Return the Python representation of ``s`` (a ``str`` instance\u001b[39;00m\n\u001b[0;32m    334\u001b[0m \u001b[38;5;124;03mcontaining a JSON document).\u001b[39;00m\n\u001b[0;32m    335\u001b[0m \n\u001b[0;32m    336\u001b[0m \u001b[38;5;124;03m\"\"\"\u001b[39;00m\n\u001b[1;32m--> 337\u001b[0m obj, end \u001b[38;5;241m=\u001b[39m \u001b[38;5;28;43mself\u001b[39;49m\u001b[38;5;241;43m.\u001b[39;49m\u001b[43mraw_decode\u001b[49m\u001b[43m(\u001b[49m\u001b[43ms\u001b[49m\u001b[43m,\u001b[49m\u001b[43m \u001b[49m\u001b[43midx\u001b[49m\u001b[38;5;241;43m=\u001b[39;49m\u001b[43m_w\u001b[49m\u001b[43m(\u001b[49m\u001b[43ms\u001b[49m\u001b[43m,\u001b[49m\u001b[43m \u001b[49m\u001b[38;5;241;43m0\u001b[39;49m\u001b[43m)\u001b[49m\u001b[38;5;241;43m.\u001b[39;49m\u001b[43mend\u001b[49m\u001b[43m(\u001b[49m\u001b[43m)\u001b[49m\u001b[43m)\u001b[49m\n\u001b[0;32m    338\u001b[0m end \u001b[38;5;241m=\u001b[39m _w(s, end)\u001b[38;5;241m.\u001b[39mend()\n",
      "File \u001b[1;32m~\\AppData\\Local\\Programs\\Python\\Python311\\Lib\\json\\decoder.py:355\u001b[0m, in \u001b[0;36mJSONDecoder.raw_decode\u001b[1;34m(self, s, idx)\u001b[0m\n\u001b[0;32m    354\u001b[0m \u001b[38;5;28;01mexcept\u001b[39;00m \u001b[38;5;167;01mStopIteration\u001b[39;00m \u001b[38;5;28;01mas\u001b[39;00m err:\n\u001b[1;32m--> 355\u001b[0m     \u001b[38;5;28;01mraise\u001b[39;00m JSONDecodeError(\u001b[38;5;124m\"\u001b[39m\u001b[38;5;124mExpecting value\u001b[39m\u001b[38;5;124m\"\u001b[39m, s, err\u001b[38;5;241m.\u001b[39mvalue) \u001b[38;5;28;01mfrom\u001b[39;00m \u001b[38;5;28;01mNone\u001b[39;00m\n\u001b[0;32m    356\u001b[0m \u001b[38;5;28;01mreturn\u001b[39;00m obj, end\n",
      "\u001b[1;31mJSONDecodeError\u001b[0m: Expecting value: line 1 column 1 (char 0)",
      "\nDuring handling of the above exception, another exception occurred:\n",
      "\u001b[1;31mJSONDecodeError\u001b[0m                           Traceback (most recent call last)",
      "Cell \u001b[1;32mIn[69], line 1\u001b[0m\n\u001b[1;32m----> 1\u001b[0m \u001b[43mspeed_grader_response\u001b[49m\u001b[38;5;241;43m.\u001b[39;49m\u001b[43mjson\u001b[49m\u001b[43m(\u001b[49m\u001b[43m)\u001b[49m\n",
      "File \u001b[1;32m~\\AppData\\Local\\Programs\\Python\\Python311\\Lib\\site-packages\\requests\\models.py:975\u001b[0m, in \u001b[0;36mResponse.json\u001b[1;34m(self, **kwargs)\u001b[0m\n\u001b[0;32m    971\u001b[0m     \u001b[38;5;28;01mreturn\u001b[39;00m complexjson\u001b[38;5;241m.\u001b[39mloads(\u001b[38;5;28mself\u001b[39m\u001b[38;5;241m.\u001b[39mtext, \u001b[38;5;241m*\u001b[39m\u001b[38;5;241m*\u001b[39mkwargs)\n\u001b[0;32m    972\u001b[0m \u001b[38;5;28;01mexcept\u001b[39;00m JSONDecodeError \u001b[38;5;28;01mas\u001b[39;00m e:\n\u001b[0;32m    973\u001b[0m     \u001b[38;5;66;03m# Catch JSON-related errors and raise as requests.JSONDecodeError\u001b[39;00m\n\u001b[0;32m    974\u001b[0m     \u001b[38;5;66;03m# This aliases json.JSONDecodeError and simplejson.JSONDecodeError\u001b[39;00m\n\u001b[1;32m--> 975\u001b[0m     \u001b[38;5;28;01mraise\u001b[39;00m RequestsJSONDecodeError(e\u001b[38;5;241m.\u001b[39mmsg, e\u001b[38;5;241m.\u001b[39mdoc, e\u001b[38;5;241m.\u001b[39mpos)\n",
      "\u001b[1;31mJSONDecodeError\u001b[0m: Expecting value: line 1 column 1 (char 0)"
     ]
    }
   ],
   "source": [
    "speed_grader_response.json()"
   ]
  },
  {
   "cell_type": "code",
   "execution_count": 52,
   "id": "b90d552b-ec1a-4fcb-9ee6-1ad4c7a6ffd2",
   "metadata": {},
   "outputs": [],
   "source": [
    "submission['score']"
   ]
  },
  {
   "cell_type": "code",
   "execution_count": 27,
   "id": "8fee9058-94f2-412e-9257-9fac228b6f8c",
   "metadata": {},
   "outputs": [],
   "source": [
    "def assignment(request):\n",
    "\n",
    "\n",
    "\n",
    "\n",
    "\n",
    "\n",
    "\n",
    "    \n",
    "\n",
    "    student_grades = []\n",
    "    total_grades_sum = 0\n",
    "    total_students_count = 0\n",
    "\n",
    "    # Step 3: Loop through each student and each assignment to get grades\n",
    "    for enrollment in enrollments:\n",
    "        # Filter for students only\n",
    "        if enrollment.get('role') == 'StudentEnrollment':\n",
    "            student_name = enrollment.get('user', {}).get('name', 'Unknown')\n",
    "            user_id = enrollment.get('user', {}).get('id')\n",
    "            total_grade = 0\n",
    "            total_possible_points = 0\n",
    "            \n",
    "            for assignment in assignments:\n",
    "                assignment_id = assignment.get('id')\n",
    "                points_possible = assignment.get('points_possible', 0)\n",
    "                \n",
    "                if not assignment_id or points_possible == 0:\n",
    "                    continue\n",
    "                \n",
    "                # Get submission for the current student for the current assignment\n",
    "                submission_url = f'{base_url}/assignments/{assignment_id}/submissions/{enrollment[\"user_id\"]}'\n",
    "                submission_response = requests.get(submission_url, headers=headers)\n",
    "                \n",
    "                try:\n",
    "                    submission_response.raise_for_status()\n",
    "                    submission = submission_response.json()\n",
    "                    print(\"========================================\")\n",
    "                    print(submission)\n",
    "                    grade = submission.get('score', 0)  # Get the score (0 if not submitted)\n",
    "                    total_grade += grade\n",
    "                    total_possible_points += points_possible\n",
    "                except requests.exceptions.RequestException:\n",
    "                    continue\n",
    "            \n",
    "            # Calculate the percentage grade\n",
    "            if total_possible_points > 0:\n",
    "                percentage_grade = (total_grade / total_possible_points) * 100\n",
    "            else:\n",
    "                percentage_grade = 0\n",
    "            \n",
    "            student_grades.append({\n",
    "                'student_name': student_name,\n",
    "                'total_grade': percentage_grade,\n",
    "                'user_id' : user_id\n",
    "            })\n",
    "            \n",
    "            # Add to the total grades sum and increment the student count\n",
    "            total_grades_sum += percentage_grade\n",
    "            total_students_count += 1\n",
    "\n",
    "    # Calculate the average grade\n",
    "    average_grade = total_grades_sum / total_students_count if total_students_count > 0 else 0\n",
    "\n",
    "    # Step 4: Pass the data to the template\n",
    "    context = {\n",
    "        'students': student_grades,\n",
    "        'average_grade': average_grade,\n",
    "        'total_students': total_students_count\n",
    "    }\n",
    "\n",
    "    return render(request, 'assignment.html', context)"
   ]
  },
  {
   "cell_type": "code",
   "execution_count": null,
   "id": "3bd6d581-be74-413c-9fd2-585791efd7c2",
   "metadata": {},
   "outputs": [],
   "source": []
  }
 ],
 "metadata": {
  "kernelspec": {
   "display_name": "Python 3 (ipykernel)",
   "language": "python",
   "name": "python3"
  },
  "language_info": {
   "codemirror_mode": {
    "name": "ipython",
    "version": 3
   },
   "file_extension": ".py",
   "mimetype": "text/x-python",
   "name": "python",
   "nbconvert_exporter": "python",
   "pygments_lexer": "ipython3",
   "version": "3.11.7"
  }
 },
 "nbformat": 4,
 "nbformat_minor": 5
}
